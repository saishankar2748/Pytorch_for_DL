{
 "cells": [
  {
   "cell_type": "code",
   "execution_count": 1,
   "id": "69ec213d",
   "metadata": {},
   "outputs": [],
   "source": [
    "import torch"
   ]
  },
  {
   "cell_type": "markdown",
   "id": "f685d95e",
   "metadata": {},
   "source": [
    "## Tensors"
   ]
  },
  {
   "cell_type": "code",
   "execution_count": 16,
   "id": "227c1381",
   "metadata": {},
   "outputs": [
    {
     "data": {
      "text/plain": [
       "tensor(1)"
      ]
     },
     "execution_count": 16,
     "metadata": {},
     "output_type": "execute_result"
    }
   ],
   "source": [
    "scalar = torch.tensor(1)\n",
    "scalar"
   ]
  },
  {
   "cell_type": "code",
   "execution_count": 17,
   "id": "bc304c8c",
   "metadata": {},
   "outputs": [
    {
     "data": {
      "text/plain": [
       "tensor([4, 2])"
      ]
     },
     "execution_count": 17,
     "metadata": {},
     "output_type": "execute_result"
    }
   ],
   "source": [
    "vector = torch.tensor([4,2])\n",
    "vector"
   ]
  },
  {
   "cell_type": "code",
   "execution_count": 18,
   "id": "eab8abfe",
   "metadata": {},
   "outputs": [
    {
     "data": {
      "text/plain": [
       "torch.Size([2, 2])"
      ]
     },
     "execution_count": 18,
     "metadata": {},
     "output_type": "execute_result"
    }
   ],
   "source": [
    "MATRIX = torch.tensor([[1,2],[3,4]])\n",
    "MATRIX.shape"
   ]
  },
  {
   "cell_type": "code",
   "execution_count": 19,
   "id": "9556c846",
   "metadata": {},
   "outputs": [
    {
     "data": {
      "text/plain": [
       "2"
      ]
     },
     "execution_count": 19,
     "metadata": {},
     "output_type": "execute_result"
    }
   ],
   "source": [
    "MATRIX.ndim"
   ]
  },
  {
   "cell_type": "code",
   "execution_count": 20,
   "id": "2b86d78a",
   "metadata": {},
   "outputs": [
    {
     "data": {
      "text/plain": [
       "tensor([[[1, 2, 3],\n",
       "         [4, 3, 6],\n",
       "         [5, 3, 6]],\n",
       "\n",
       "        [[2, 3, 5],\n",
       "         [5, 2, 5],\n",
       "         [5, 3, 1]]])"
      ]
     },
     "execution_count": 20,
     "metadata": {},
     "output_type": "execute_result"
    }
   ],
   "source": [
    "TENSOR = torch.tensor([[[1,2,3],[4,3,6],[5,3,6]],[[2,3,5],[5,2,5],[5,3,1]]])\n",
    "TENSOR"
   ]
  },
  {
   "cell_type": "code",
   "execution_count": 18,
   "id": "b2c16a63",
   "metadata": {},
   "outputs": [
    {
     "data": {
      "text/plain": [
       "3"
      ]
     },
     "execution_count": 18,
     "metadata": {},
     "output_type": "execute_result"
    }
   ],
   "source": [
    "TENSOR.ndim"
   ]
  },
  {
   "cell_type": "code",
   "execution_count": 19,
   "id": "e187e1d0",
   "metadata": {},
   "outputs": [
    {
     "data": {
      "text/plain": [
       "torch.Size([2, 3, 3])"
      ]
     },
     "execution_count": 19,
     "metadata": {},
     "output_type": "execute_result"
    }
   ],
   "source": [
    "TENSOR.shape"
   ]
  },
  {
   "cell_type": "code",
   "execution_count": 23,
   "id": "6642456a",
   "metadata": {},
   "outputs": [
    {
     "data": {
      "text/plain": [
       "tensor([[2, 3, 5],\n",
       "        [5, 2, 5],\n",
       "        [5, 3, 1]])"
      ]
     },
     "execution_count": 23,
     "metadata": {},
     "output_type": "execute_result"
    }
   ],
   "source": [
    "TENSOR[1]"
   ]
  },
  {
   "cell_type": "markdown",
   "id": "66c6e22e",
   "metadata": {},
   "source": [
    "## Random Tensors"
   ]
  },
  {
   "cell_type": "code",
   "execution_count": 8,
   "id": "cd5eb3e0",
   "metadata": {},
   "outputs": [
    {
     "data": {
      "text/plain": [
       "tensor([[[0.7287, 0.5312, 0.0291, 0.9583],\n",
       "         [0.6488, 0.9880, 0.9994, 0.1849],\n",
       "         [0.1875, 0.4111, 0.5235, 0.4375]],\n",
       "\n",
       "        [[0.9613, 0.5101, 0.6067, 0.1884],\n",
       "         [0.2368, 0.8167, 0.1636, 0.5265],\n",
       "         [0.3799, 0.9259, 0.8719, 0.9605]],\n",
       "\n",
       "        [[0.9000, 0.5029, 0.0959, 0.7755],\n",
       "         [0.3451, 0.3844, 0.2913, 0.2991],\n",
       "         [0.4621, 0.0249, 0.8308, 0.8520]],\n",
       "\n",
       "        [[0.1815, 0.9679, 0.6459, 0.2607],\n",
       "         [0.2521, 0.3679, 0.5903, 0.6221],\n",
       "         [0.1485, 0.4994, 0.6926, 0.1747]],\n",
       "\n",
       "        [[0.6724, 0.8543, 0.2096, 0.4346],\n",
       "         [0.8947, 0.9709, 0.7695, 0.4772],\n",
       "         [0.3451, 0.0073, 0.4553, 0.1404]],\n",
       "\n",
       "        [[0.5268, 0.7811, 0.0127, 0.8157],\n",
       "         [0.4349, 0.6568, 0.9297, 0.7771],\n",
       "         [0.8076, 0.8116, 0.1163, 0.8071]],\n",
       "\n",
       "        [[0.4538, 0.3743, 0.9536, 0.9278],\n",
       "         [0.7395, 0.2835, 0.8415, 0.6373],\n",
       "         [0.5490, 0.8199, 0.3380, 0.3012]],\n",
       "\n",
       "        [[0.0068, 0.5493, 0.5783, 0.2776],\n",
       "         [0.5959, 0.1131, 0.2357, 0.8702],\n",
       "         [0.5564, 0.0357, 0.9043, 0.0868]],\n",
       "\n",
       "        [[0.8290, 0.8832, 0.7204, 0.6481],\n",
       "         [0.6454, 0.4615, 0.4350, 0.7780],\n",
       "         [0.8396, 0.8693, 0.3718, 0.1385]],\n",
       "\n",
       "        [[0.5658, 0.5545, 0.6581, 0.8361],\n",
       "         [0.5545, 0.3455, 0.8618, 0.0988],\n",
       "         [0.1780, 0.8551, 0.1693, 0.2692]]])"
      ]
     },
     "execution_count": 8,
     "metadata": {},
     "output_type": "execute_result"
    }
   ],
   "source": [
    "random_tensor = torch.rand(10,3,4)\n",
    "random_tensor"
   ]
  },
  {
   "cell_type": "code",
   "execution_count": 9,
   "id": "d2752f01",
   "metadata": {},
   "outputs": [
    {
     "data": {
      "text/plain": [
       "3"
      ]
     },
     "execution_count": 9,
     "metadata": {},
     "output_type": "execute_result"
    }
   ],
   "source": [
    "random_tensor.ndim"
   ]
  },
  {
   "cell_type": "code",
   "execution_count": 11,
   "id": "0758c458",
   "metadata": {},
   "outputs": [
    {
     "data": {
      "text/plain": [
       "torch.Size([3, 224, 224])"
      ]
     },
     "execution_count": 11,
     "metadata": {},
     "output_type": "execute_result"
    }
   ],
   "source": [
    "random_image_tensor = torch.rand(3,224,224)\n",
    "random_image_tensor.shape"
   ]
  },
  {
   "cell_type": "code",
   "execution_count": 22,
   "id": "f550b44e",
   "metadata": {},
   "outputs": [
    {
     "data": {
      "text/plain": [
       "tensor([[0., 0., 0.],\n",
       "        [0., 0., 0.],\n",
       "        [0., 0., 0.]])"
      ]
     },
     "execution_count": 22,
     "metadata": {},
     "output_type": "execute_result"
    }
   ],
   "source": [
    "zeroes = torch.zeros(size=(3,3))\n",
    "zeroes"
   ]
  },
  {
   "cell_type": "code",
   "execution_count": 23,
   "id": "cd2a25e9",
   "metadata": {},
   "outputs": [
    {
     "data": {
      "text/plain": [
       "tensor([[0., 0., 0.],\n",
       "        [0., 0., 0.],\n",
       "        [0., 0., 0.]])"
      ]
     },
     "execution_count": 23,
     "metadata": {},
     "output_type": "execute_result"
    }
   ],
   "source": [
    "zeroes * TENSOR[1]"
   ]
  },
  {
   "cell_type": "code",
   "execution_count": 30,
   "id": "1c31be9f",
   "metadata": {},
   "outputs": [
    {
     "data": {
      "text/plain": [
       "tensor([  1, 100, 199, 298, 397, 496, 595, 694, 793, 892, 991])"
      ]
     },
     "execution_count": 30,
     "metadata": {},
     "output_type": "execute_result"
    }
   ],
   "source": [
    "torch.arange(1,999,99)"
   ]
  },
  {
   "cell_type": "code",
   "execution_count": 44,
   "id": "1f5324fc",
   "metadata": {},
   "outputs": [
    {
     "data": {
      "text/plain": [
       "tensor([3, 4])"
      ]
     },
     "execution_count": 44,
     "metadata": {},
     "output_type": "execute_result"
    }
   ],
   "source": [
    "torch.tensor((3,4),\n",
    "             dtype=None,\n",
    "             device='cpu',\n",
    "             requires_grad = False\n",
    "            )"
   ]
  },
  {
   "cell_type": "code",
   "execution_count": 47,
   "id": "ff1184f3",
   "metadata": {},
   "outputs": [
    {
     "data": {
      "text/plain": [
       "False"
      ]
     },
     "execution_count": 47,
     "metadata": {},
     "output_type": "execute_result"
    }
   ],
   "source": [
    "torch.cuda.is_available()"
   ]
  },
  {
   "cell_type": "code",
   "execution_count": 48,
   "id": "8efd4c67",
   "metadata": {},
   "outputs": [
    {
     "data": {
      "text/plain": [
       "0"
      ]
     },
     "execution_count": 48,
     "metadata": {},
     "output_type": "execute_result"
    }
   ],
   "source": [
    "torch.cuda.device_count()"
   ]
  }
 ],
 "metadata": {
  "kernelspec": {
   "display_name": "Python 3 (ipykernel)",
   "language": "python",
   "name": "python3"
  },
  "language_info": {
   "codemirror_mode": {
    "name": "ipython",
    "version": 3
   },
   "file_extension": ".py",
   "mimetype": "text/x-python",
   "name": "python",
   "nbconvert_exporter": "python",
   "pygments_lexer": "ipython3",
   "version": "3.9.7"
  }
 },
 "nbformat": 4,
 "nbformat_minor": 5
}
