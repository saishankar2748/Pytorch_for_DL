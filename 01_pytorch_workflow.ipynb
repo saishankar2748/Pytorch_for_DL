{
 "cells": [
  {
   "cell_type": "code",
   "execution_count": 1,
   "id": "79923886",
   "metadata": {},
   "outputs": [],
   "source": [
    "import torch\n",
    "from torch import nn\n",
    "import matplotlib.pyplot as plt\n",
    "import numpy as np\n",
    "from pathlib import Path"
   ]
  },
  {
   "cell_type": "code",
   "execution_count": 197,
   "id": "0f7e50ff",
   "metadata": {},
   "outputs": [
    {
     "data": {
      "text/plain": [
       "{1: 'prare data and load',\n",
       " 2: 'build a model',\n",
       " 3: 'fit the model to the data',\n",
       " 4: 'Saving and loading the model',\n",
       " 5: 'Putting it all together'}"
      ]
     },
     "execution_count": 197,
     "metadata": {},
     "output_type": "execute_result"
    }
   ],
   "source": [
    "{\n",
    "    1: \"prare data and load\",\n",
    "    2: \"build a model\",\n",
    "    3: \"fit the model to the data\",\n",
    "    4: \"Saving and loading the model\",\n",
    "    5: 'Putting it all together'\n",
    "}"
   ]
  },
  {
   "cell_type": "code",
   "execution_count": 198,
   "id": "88a27a32",
   "metadata": {},
   "outputs": [
    {
     "data": {
      "text/plain": [
       "'2.7.1+cpu'"
      ]
     },
     "execution_count": 198,
     "metadata": {},
     "output_type": "execute_result"
    }
   ],
   "source": [
    "torch.__version__"
   ]
  },
  {
   "cell_type": "markdown",
   "id": "4527c196",
   "metadata": {},
   "source": [
    "# 1"
   ]
  },
  {
   "cell_type": "code",
   "execution_count": 199,
   "id": "d5614717",
   "metadata": {},
   "outputs": [],
   "source": [
    "weight = 0.7\n",
    "bias = 0.3"
   ]
  },
  {
   "cell_type": "code",
   "execution_count": 200,
   "id": "76981b87",
   "metadata": {},
   "outputs": [],
   "source": [
    "start = 0\n",
    "end = 1\n",
    "step = 0.02\n",
    "X = torch.arange(start, end, step).unsqueeze(dim=1)\n"
   ]
  },
  {
   "cell_type": "code",
   "execution_count": 201,
   "id": "cbca03a7",
   "metadata": {
    "scrolled": true
   },
   "outputs": [
    {
     "data": {
      "text/plain": [
       "(tensor([[0.0000],\n",
       "         [0.0200],\n",
       "         [0.0400],\n",
       "         [0.0600],\n",
       "         [0.0800],\n",
       "         [0.1000],\n",
       "         [0.1200],\n",
       "         [0.1400],\n",
       "         [0.1600],\n",
       "         [0.1800]]),\n",
       " tensor([[0.3000],\n",
       "         [0.3140],\n",
       "         [0.3280],\n",
       "         [0.3420],\n",
       "         [0.3560],\n",
       "         [0.3700],\n",
       "         [0.3840],\n",
       "         [0.3980],\n",
       "         [0.4120],\n",
       "         [0.4260]]))"
      ]
     },
     "execution_count": 201,
     "metadata": {},
     "output_type": "execute_result"
    }
   ],
   "source": [
    "y = weight *X + bias\n",
    "X[:10], y[:10]"
   ]
  },
  {
   "cell_type": "code",
   "execution_count": 202,
   "id": "9135eacf",
   "metadata": {},
   "outputs": [
    {
     "data": {
      "text/plain": [
       "(40, 10)"
      ]
     },
     "execution_count": 202,
     "metadata": {},
     "output_type": "execute_result"
    }
   ],
   "source": [
    "train_split = int(0.8 * len(X))\n",
    "X_train, y_train = X[:train_split], y[:train_split]\n",
    "X_test, y_test = X[train_split:], y[train_split:]\n",
    "len(X_train), len(X_test)"
   ]
  },
  {
   "cell_type": "code",
   "execution_count": 203,
   "id": "a7c63152",
   "metadata": {},
   "outputs": [
    {
     "name": "stderr",
     "output_type": "stream",
     "text": [
      "No artists with labels found to put in legend.  Note that artists whose label start with an underscore are ignored when legend() is called with no argument.\n"
     ]
    },
    {
     "data": {
      "image/png": "[encoded data removed]",
      "text/plain": [
       "<Figure size 1000x700 with 1 Axes>"
      ]
     },
     "metadata": {},
     "output_type": "display_data"
    }
   ],
   "source": [
    "def plot_predictions(train_data=X_train,\n",
    "                    train_labels=y_train,\n",
    "                    test_data=X_test,\n",
    "                     test_labels=y_test,\n",
    "                     predictions=None\n",
    "                    ):\n",
    "    plt.figure(figsize=(10,7))\n",
    "    plt.scatter(train_data,train_labels)\n",
    "    plt.scatter(test_data,test_labels)\n",
    "    if predictions is not None:\n",
    "        plt.scatter(test_data,predictions)\n",
    "    plt.legend()\n",
    "    \n",
    "plot_predictions()"
   ]
  },
  {
   "cell_type": "markdown",
   "id": "7b60974f",
   "metadata": {},
   "source": [
    "# 2"
   ]
  },
  {
   "cell_type": "code",
   "execution_count": 204,
   "id": "29c99f22",
   "metadata": {},
   "outputs": [],
   "source": [
    "class LinearModel(nn.Module):\n",
    "    def __init__(self):\n",
    "        super().__init__()\n",
    "        self.weights = nn.Parameter(torch.randn(1,requires_grad=True,dtype= torch.float))\n",
    "        self.bias = nn.Parameter(torch.randn(1,requires_grad=True,dtype=torch.float))\n",
    "\n",
    "    def forward(self,x):\n",
    "            return self.weights * x + self.bias\n"
   ]
  },
  {
   "cell_type": "code",
   "execution_count": 205,
   "id": "4915b5f0",
   "metadata": {},
   "outputs": [
    {
     "data": {
      "text/plain": [
       "[Parameter containing:\n",
       " tensor([0.3367], requires_grad=True),\n",
       " Parameter containing:\n",
       " tensor([0.1288], requires_grad=True)]"
      ]
     },
     "execution_count": 205,
     "metadata": {},
     "output_type": "execute_result"
    }
   ],
   "source": [
    "torch.manual_seed(42)\n",
    "model_0 = LinearModel()\n",
    "list(model_0.parameters())"
   ]
  },
  {
   "cell_type": "code",
   "execution_count": 206,
   "id": "2002c0ae",
   "metadata": {},
   "outputs": [
    {
     "data": {
      "text/plain": [
       "OrderedDict([('weights', tensor([0.3367])), ('bias', tensor([0.1288]))])"
      ]
     },
     "execution_count": 206,
     "metadata": {},
     "output_type": "execute_result"
    }
   ],
   "source": [
    "model_0.state_dict()"
   ]
  },
  {
   "cell_type": "code",
   "execution_count": 207,
   "id": "da21ba0d",
   "metadata": {},
   "outputs": [
    {
     "data": {
      "text/plain": [
       "(tensor([[0.3982],\n",
       "         [0.4049],\n",
       "         [0.4116],\n",
       "         [0.4184],\n",
       "         [0.4251],\n",
       "         [0.4318],\n",
       "         [0.4386],\n",
       "         [0.4453],\n",
       "         [0.4520],\n",
       "         [0.4588]]),\n",
       " tensor([[0.8600],\n",
       "         [0.8740],\n",
       "         [0.8880],\n",
       "         [0.9020],\n",
       "         [0.9160],\n",
       "         [0.9300],\n",
       "         [0.9440],\n",
       "         [0.9580],\n",
       "         [0.9720],\n",
       "         [0.9860]]))"
      ]
     },
     "execution_count": 207,
     "metadata": {},
     "output_type": "execute_result"
    }
   ],
   "source": [
    "with torch.inference_mode():\n",
    "    y_preds = model_0(X_test)\n",
    "y_preds, y_test"
   ]
  },
  {
   "cell_type": "code",
   "execution_count": 208,
   "id": "9582fffd",
   "metadata": {},
   "outputs": [
    {
     "name": "stderr",
     "output_type": "stream",
     "text": [
      "No artists with labels found to put in legend.  Note that artists whose label start with an underscore are ignored when legend() is called with no argument.\n"
     ]
    },
    {
     "data": {
      "image/png": "[encoded data removed]",
      "text/plain": [
       "<Figure size 1000x700 with 1 Axes>"
      ]
     },
     "metadata": {},
     "output_type": "display_data"
    }
   ],
   "source": [
    "plot_predictions(predictions=y_preds)"
   ]
  },
  {
   "cell_type": "markdown",
   "id": "25206539",
   "metadata": {},
   "source": [
    "# 3"
   ]
  },
  {
   "cell_type": "code",
   "execution_count": 209,
   "id": "ecfc545a",
   "metadata": {},
   "outputs": [],
   "source": [
    "loss_fn = nn.L1Loss()\n",
    "\n",
    "optimizer = torch.optim.SGD(params=model_0.parameters(),\n",
    "                            lr=0.01)"
   ]
  },
  {
   "cell_type": "code",
   "execution_count": 210,
   "id": "beaae0ff",
   "metadata": {},
   "outputs": [
    {
     "name": "stdout",
     "output_type": "stream",
     "text": [
      "Epoch : 0 | Loss : 0.31288138031959534 | Test Loss : 0.48106518387794495\n",
      "OrderedDict([('weights', tensor([0.3406])), ('bias', tensor([0.1388]))])\n",
      "Epoch : 10 | Loss : 0.1976713240146637 | Test Loss : 0.3463551998138428\n",
      "OrderedDict([('weights', tensor([0.3796])), ('bias', tensor([0.2388]))])\n",
      "Epoch : 20 | Loss : 0.08908725529909134 | Test Loss : 0.21729660034179688\n",
      "OrderedDict([('weights', tensor([0.4184])), ('bias', tensor([0.3333]))])\n",
      "Epoch : 30 | Loss : 0.053148526698350906 | Test Loss : 0.14464017748832703\n",
      "OrderedDict([('weights', tensor([0.4512])), ('bias', tensor([0.3768]))])\n",
      "Epoch : 40 | Loss : 0.04543796554207802 | Test Loss : 0.11360953003168106\n",
      "OrderedDict([('weights', tensor([0.4748])), ('bias', tensor([0.3868]))])\n",
      "Epoch : 50 | Loss : 0.04167863354086876 | Test Loss : 0.09919948130846024\n",
      "OrderedDict([('weights', tensor([0.4938])), ('bias', tensor([0.3843]))])\n",
      "Epoch : 60 | Loss : 0.03818932920694351 | Test Loss : 0.08886633068323135\n",
      "OrderedDict([('weights', tensor([0.5116])), ('bias', tensor([0.3788]))])\n",
      "Epoch : 70 | Loss : 0.03476089984178543 | Test Loss : 0.0805937647819519\n",
      "OrderedDict([('weights', tensor([0.5288])), ('bias', tensor([0.3718]))])\n",
      "Epoch : 80 | Loss : 0.03132382780313492 | Test Loss : 0.07232122868299484\n",
      "OrderedDict([('weights', tensor([0.5459])), ('bias', tensor([0.3648]))])\n",
      "Epoch : 90 | Loss : 0.02788739837706089 | Test Loss : 0.06473556160926819\n",
      "OrderedDict([('weights', tensor([0.5629])), ('bias', tensor([0.3573]))])\n",
      "Epoch : 100 | Loss : 0.024458957836031914 | Test Loss : 0.05646304413676262\n",
      "OrderedDict([('weights', tensor([0.5800])), ('bias', tensor([0.3503]))])\n",
      "Epoch : 110 | Loss : 0.021020207554101944 | Test Loss : 0.04819049686193466\n",
      "OrderedDict([('weights', tensor([0.5972])), ('bias', tensor([0.3433]))])\n",
      "Epoch : 120 | Loss : 0.01758546568453312 | Test Loss : 0.04060482233762741\n",
      "OrderedDict([('weights', tensor([0.6141])), ('bias', tensor([0.3358]))])\n",
      "Epoch : 130 | Loss : 0.014155393466353416 | Test Loss : 0.03233227878808975\n",
      "OrderedDict([('weights', tensor([0.6313])), ('bias', tensor([0.3288]))])\n",
      "Epoch : 140 | Loss : 0.010716589167714119 | Test Loss : 0.024059748277068138\n",
      "OrderedDict([('weights', tensor([0.6485])), ('bias', tensor([0.3218]))])\n",
      "Epoch : 150 | Loss : 0.0072835334576666355 | Test Loss : 0.016474086791276932\n",
      "OrderedDict([('weights', tensor([0.6654])), ('bias', tensor([0.3143]))])\n",
      "Epoch : 160 | Loss : 0.0038517764769494534 | Test Loss : 0.008201557211577892\n",
      "OrderedDict([('weights', tensor([0.6826])), ('bias', tensor([0.3073]))])\n",
      "Epoch : 170 | Loss : 0.008932482451200485 | Test Loss : 0.005023092031478882\n",
      "OrderedDict([('weights', tensor([0.6951])), ('bias', tensor([0.2993]))])\n",
      "Epoch : 180 | Loss : 0.008932482451200485 | Test Loss : 0.005023092031478882\n",
      "OrderedDict([('weights', tensor([0.6951])), ('bias', tensor([0.2993]))])\n",
      "Epoch : 190 | Loss : 0.008932482451200485 | Test Loss : 0.005023092031478882\n",
      "OrderedDict([('weights', tensor([0.6951])), ('bias', tensor([0.2993]))])\n"
     ]
    }
   ],
   "source": [
    "torch.manual_seed(42)\n",
    "epochs = 200\n",
    "\n",
    "epoch_count = []\n",
    "loss_values = []\n",
    "test_loss_values = []\n",
    "\n",
    "for i in range(epochs):\n",
    "\n",
    "    model_0.train()\n",
    "\n",
    "    y_preds = model_0(X_train)\n",
    "    loss = loss_fn(y_train,y_preds)\n",
    "    # print(loss)\n",
    "    optimizer.zero_grad()\n",
    "    loss.backward()\n",
    "    optimizer.step()\n",
    "\n",
    "    model_0.eval()\n",
    "    with torch.inference_mode():\n",
    "        test_pred = model_0(X_test)\n",
    "        test_loss = loss_fn(test_pred,y_test)\n",
    "    if i % 10 == 0:\n",
    "        epoch_count.append(i)\n",
    "        loss_values.append(loss)\n",
    "        test_loss_values.append(test_loss)\n",
    "        print(f\"Epoch : {i} | Loss : {loss} | Test Loss : {test_loss}\")\n",
    "        print(model_0.state_dict())\n"
   ]
  },
  {
   "cell_type": "code",
   "execution_count": 211,
   "id": "c60148eb",
   "metadata": {},
   "outputs": [
    {
     "data": {
      "text/plain": [
       "OrderedDict([('weights', tensor([0.6990])), ('bias', tensor([0.3093]))])"
      ]
     },
     "execution_count": 211,
     "metadata": {},
     "output_type": "execute_result"
    }
   ],
   "source": [
    "model_0.state_dict()"
   ]
  },
  {
   "cell_type": "code",
   "execution_count": 212,
   "id": "644af805",
   "metadata": {},
   "outputs": [
    {
     "data": {
      "text/plain": [
       "<matplotlib.legend.Legend at 0x11771a61e40>"
      ]
     },
     "execution_count": 212,
     "metadata": {},
     "output_type": "execute_result"
    },
    {
     "data": {
      "image/png": "[encoded data removed]",
      "text/plain": [
       "<Figure size 640x480 with 1 Axes>"
      ]
     },
     "metadata": {},
     "output_type": "display_data"
    }
   ],
   "source": [
    "plt.plot(epoch_count,np.array(torch.tensor(loss_values)),label='Train loss')\n",
    "plt.plot(epoch_count,test_loss_values,label='Test loss')\n",
    "plt.ylabel('Loss')\n",
    "plt.xlabel('epochs')\n",
    "plt.legend()"
   ]
  },
  {
   "cell_type": "code",
   "execution_count": 213,
   "id": "899b469d",
   "metadata": {},
   "outputs": [
    {
     "name": "stderr",
     "output_type": "stream",
     "text": [
      "No artists with labels found to put in legend.  Note that artists whose label start with an underscore are ignored when legend() is called with no argument.\n"
     ]
    },
    {
     "data": {
      "image/png": "[encoded data removed]",
      "text/plain": [
       "<Figure size 1000x700 with 1 Axes>"
      ]
     },
     "metadata": {},
     "output_type": "display_data"
    }
   ],
   "source": [
    "with torch.inference_mode():\n",
    "    y_preds = model_0(X_test)\n",
    "plot_predictions(predictions=y_preds)"
   ]
  },
  {
   "cell_type": "markdown",
   "id": "7824439f",
   "metadata": {},
   "source": [
    "# 4"
   ]
  },
  {
   "cell_type": "code",
   "execution_count": 214,
   "id": "3c013e97",
   "metadata": {},
   "outputs": [
    {
     "name": "stdout",
     "output_type": "stream",
     "text": [
      "Saving model to: models\\01_pytorch_linear_model.pth\n"
     ]
    }
   ],
   "source": [
    "MODEL_PATH = Path('models')\n",
    "MODEL_PATH.mkdir(parents=True,exist_ok=True)\n",
    "\n",
    "MODEL_NAME = \"01_pytorch_linear_model.pth\"\n",
    "MODEL_SAVE_PATH = MODEL_PATH/MODEL_NAME\n",
    "\n",
    "print(f'Saving model to: {MODEL_SAVE_PATH}')\n",
    "torch.save(obj=model_0.state_dict(),f=MODEL_SAVE_PATH)"
   ]
  },
  {
   "cell_type": "code",
   "execution_count": 215,
   "id": "e30a7205",
   "metadata": {},
   "outputs": [
    {
     "data": {
      "text/plain": [
       "<All keys matched successfully>"
      ]
     },
     "execution_count": 215,
     "metadata": {},
     "output_type": "execute_result"
    }
   ],
   "source": [
    "loaded_model_0 = LinearModel()\n",
    "loaded_model_0.load_state_dict(torch.load(f=MODEL_SAVE_PATH))\n"
   ]
  },
  {
   "cell_type": "code",
   "execution_count": 216,
   "id": "8b126b83",
   "metadata": {},
   "outputs": [
    {
     "data": {
      "text/plain": [
       "OrderedDict([('weights', tensor([0.6990])), ('bias', tensor([0.3093]))])"
      ]
     },
     "execution_count": 216,
     "metadata": {},
     "output_type": "execute_result"
    }
   ],
   "source": [
    "loaded_model_0.state_dict()"
   ]
  },
  {
   "cell_type": "code",
   "execution_count": 217,
   "id": "7183bf24",
   "metadata": {},
   "outputs": [
    {
     "data": {
      "text/plain": [
       "OrderedDict([('weights', tensor([0.6990])), ('bias', tensor([0.3093]))])"
      ]
     },
     "execution_count": 217,
     "metadata": {},
     "output_type": "execute_result"
    }
   ],
   "source": [
    "model_0.state_dict()"
   ]
  },
  {
   "cell_type": "code",
   "execution_count": 218,
   "id": "aebfe0d0",
   "metadata": {},
   "outputs": [
    {
     "data": {
      "text/plain": [
       "tensor([[True],\n",
       "        [True],\n",
       "        [True],\n",
       "        [True],\n",
       "        [True],\n",
       "        [True],\n",
       "        [True],\n",
       "        [True],\n",
       "        [True],\n",
       "        [True]])"
      ]
     },
     "execution_count": 218,
     "metadata": {},
     "output_type": "execute_result"
    }
   ],
   "source": [
    "loaded_model_0.eval()\n",
    "with torch.inference_mode():\n",
    "    loaded_model_preds = loaded_model_0(X_test)\n",
    "loaded_model_preds == y_preds"
   ]
  },
  {
   "cell_type": "markdown",
   "id": "aea6979b",
   "metadata": {},
   "source": [
    "# 5"
   ]
  },
  {
   "cell_type": "code",
   "execution_count": 2,
   "id": "1b58693a",
   "metadata": {},
   "outputs": [
    {
     "data": {
      "text/plain": [
       "'cpu'"
      ]
     },
     "execution_count": 2,
     "metadata": {},
     "output_type": "execute_result"
    }
   ],
   "source": [
    "device = 'cuda' if torch.cuda.is_available() else 'cpu'\n",
    "device"
   ]
  },
  {
   "cell_type": "code",
   "execution_count": 3,
   "id": "63d681de",
   "metadata": {},
   "outputs": [
    {
     "data": {
      "text/plain": [
       "(40, 10)"
      ]
     },
     "execution_count": 3,
     "metadata": {},
     "output_type": "execute_result"
    }
   ],
   "source": [
    "weight = -0.5\n",
    "bias = -0.9\n",
    "\n",
    "X = torch.arange(0,1,0.02).unsqueeze(dim=1)\n",
    "X.to(device=device)\n",
    "y = X * weight + bias\n",
    "\n",
    "split = int(len(X)*0.8)\n",
    "\n",
    "X_train, y_train = X[:split], y[:split]\n",
    "X_test, y_test = X[split:], y[split:]\n",
    "len(X_train), len(y_test)"
   ]
  },
  {
   "cell_type": "code",
   "execution_count": 4,
   "id": "ab9c232a",
   "metadata": {},
   "outputs": [
    {
     "name": "stderr",
     "output_type": "stream",
     "text": [
      "No artists with labels found to put in legend.  Note that artists whose label start with an underscore are ignored when legend() is called with no argument.\n"
     ]
    },
    {
     "data": {
      "image/png": "[encoded data removed]",
      "text/plain": [
       "<Figure size 1000x700 with 1 Axes>"
      ]
     },
     "metadata": {},
     "output_type": "display_data"
    }
   ],
   "source": [
    "def plot_predictions(train_data=X_train,\n",
    "                    train_labels=y_train,\n",
    "                    test_data=X_test,\n",
    "                     test_labels=y_test,\n",
    "                     predictions=None\n",
    "                    ):\n",
    "    plt.figure(figsize=(10,7))\n",
    "    plt.scatter(train_data,train_labels)\n",
    "    plt.scatter(test_data,test_labels)\n",
    "    if predictions is not None:\n",
    "        plt.scatter(test_data,predictions)\n",
    "    plt.legend()\n",
    "    \n",
    "plot_predictions()"
   ]
  },
  {
   "cell_type": "code",
   "execution_count": 5,
   "id": "c4ebdb63",
   "metadata": {},
   "outputs": [
    {
     "data": {
      "text/plain": [
       "(LinearRegressionModel(\n",
       "   (linear_layer): Linear(in_features=1, out_features=1, bias=True)\n",
       " ),\n",
       " OrderedDict([('linear_layer.weight', tensor([[0.7645]])),\n",
       "              ('linear_layer.bias', tensor([0.8300]))]))"
      ]
     },
     "execution_count": 5,
     "metadata": {},
     "output_type": "execute_result"
    }
   ],
   "source": [
    "class LinearRegressionModel(nn.Module):\n",
    "    def __init__(self):\n",
    "        super().__init__()\n",
    "        self.linear_layer = nn.Linear(in_features=1,\n",
    "                                      out_features=1)\n",
    "    def forward(self, x):\n",
    "        return self.linear_layer(x)\n",
    "    \n",
    "torch.manual_seed(42)\n",
    "model_1 = LinearRegressionModel()\n",
    "model_1.to(device=device)\n",
    "model_1, model_1.state_dict()"
   ]
  },
  {
   "cell_type": "code",
   "execution_count": 6,
   "id": "a82723bc",
   "metadata": {},
   "outputs": [
    {
     "data": {
      "text/plain": [
       "device(type='cpu')"
      ]
     },
     "execution_count": 6,
     "metadata": {},
     "output_type": "execute_result"
    }
   ],
   "source": [
    "next(model_1.parameters()).device"
   ]
  },
  {
   "cell_type": "code",
   "execution_count": 7,
   "id": "e134df28",
   "metadata": {},
   "outputs": [],
   "source": [
    "loss_fn = nn.L1Loss()\n",
    "optimizer = torch.optim.SGD(params=model_1.parameters(),lr=0.01)"
   ]
  },
  {
   "cell_type": "code",
   "execution_count": 8,
   "id": "584cc03b",
   "metadata": {},
   "outputs": [
    {
     "name": "stdout",
     "output_type": "stream",
     "text": [
      "Epoch : 0 | train loss : 2.223177909851074 | test loss : 2.8419764041900635\n",
      "Epoch : 10 | train loss : 2.1079680919647217 | test loss : 2.707266330718994\n",
      "Epoch : 20 | train loss : 1.9927583932876587 | test loss : 2.572556734085083\n",
      "Epoch : 30 | train loss : 1.8775484561920166 | test loss : 2.4378466606140137\n",
      "Epoch : 40 | train loss : 1.762338638305664 | test loss : 2.3031368255615234\n",
      "Epoch : 50 | train loss : 1.647128701210022 | test loss : 2.168426752090454\n",
      "Epoch : 60 | train loss : 1.5319187641143799 | test loss : 2.033716917037964\n",
      "Epoch : 70 | train loss : 1.4167085886001587 | test loss : 1.8990072011947632\n",
      "Epoch : 80 | train loss : 1.3014986515045166 | test loss : 1.7642972469329834\n",
      "Epoch : 90 | train loss : 1.1862887144088745 | test loss : 1.6295874118804932\n",
      "Epoch : 100 | train loss : 1.0710786581039429 | test loss : 1.4948774576187134\n",
      "Epoch : 110 | train loss : 0.9558687210083008 | test loss : 1.3601676225662231\n",
      "Epoch : 120 | train loss : 0.8406588435173035 | test loss : 1.225457787513733\n",
      "Epoch : 130 | train loss : 0.7254490256309509 | test loss : 1.0907478332519531\n",
      "Epoch : 140 | train loss : 0.6102390289306641 | test loss : 0.9560378193855286\n",
      "Epoch : 150 | train loss : 0.49502912163734436 | test loss : 0.8213279843330383\n",
      "Epoch : 160 | train loss : 0.37981921434402466 | test loss : 0.6866179704666138\n",
      "Epoch : 170 | train loss : 0.26460930705070496 | test loss : 0.551908016204834\n",
      "Epoch : 180 | train loss : 0.1687060296535492 | test loss : 0.430062860250473\n",
      "Epoch : 190 | train loss : 0.12404532730579376 | test loss : 0.34541288018226624\n",
      "Epoch : 200 | train loss : 0.1042376309633255 | test loss : 0.28825730085372925\n",
      "Epoch : 210 | train loss : 0.09510145336389542 | test loss : 0.2506779730319977\n",
      "Epoch : 220 | train loss : 0.08976990729570389 | test loss : 0.22620484232902527\n",
      "Epoch : 230 | train loss : 0.0857698991894722 | test loss : 0.20840486884117126\n",
      "Epoch : 240 | train loss : 0.08226649463176727 | test loss : 0.19738449156284332\n",
      "Epoch : 250 | train loss : 0.07877649366855621 | test loss : 0.18636414408683777\n",
      "Epoch : 260 | train loss : 0.07528651505708694 | test loss : 0.17534376680850983\n",
      "Epoch : 270 | train loss : 0.07184772193431854 | test loss : 0.16707134246826172\n",
      "Epoch : 280 | train loss : 0.06841161847114563 | test loss : 0.15948593616485596\n",
      "Epoch : 290 | train loss : 0.06498293578624725 | test loss : 0.15121346712112427\n",
      "Epoch : 300 | train loss : 0.06154415011405945 | test loss : 0.14294101297855377\n",
      "Epoch : 310 | train loss : 0.058109693229198456 | test loss : 0.13535557687282562\n",
      "Epoch : 320 | train loss : 0.054679322987794876 | test loss : 0.12708315253257751\n",
      "Epoch : 330 | train loss : 0.05124053359031677 | test loss : 0.1188107281923294\n",
      "Epoch : 340 | train loss : 0.04780775308609009 | test loss : 0.11122523248195648\n",
      "Epoch : 350 | train loss : 0.0443756990134716 | test loss : 0.10295287519693375\n",
      "Epoch : 360 | train loss : 0.04093688726425171 | test loss : 0.09468051046133041\n",
      "Epoch : 370 | train loss : 0.037505775690078735 | test loss : 0.0870949849486351\n",
      "Epoch : 380 | train loss : 0.03407205268740654 | test loss : 0.07882262766361237\n",
      "Epoch : 390 | train loss : 0.030633246526122093 | test loss : 0.07055026292800903\n",
      "Epoch : 400 | train loss : 0.02720377966761589 | test loss : 0.06296475976705551\n",
      "Epoch : 410 | train loss : 0.023768417537212372 | test loss : 0.05469239875674248\n",
      "Epoch : 420 | train loss : 0.020330261439085007 | test loss : 0.047106873244047165\n",
      "Epoch : 430 | train loss : 0.016901802271604538 | test loss : 0.03883451223373413\n",
      "Epoch : 440 | train loss : 0.013464774005115032 | test loss : 0.030562162399291992\n",
      "Epoch : 450 | train loss : 0.010028274729847908 | test loss : 0.022976648062467575\n",
      "Epoch : 460 | train loss : 0.006599827203899622 | test loss : 0.014704299159348011\n",
      "Epoch : 470 | train loss : 0.003161123488098383 | test loss : 0.006431925110518932\n",
      "Epoch : 480 | train loss : 0.004000316374003887 | test loss : 0.006276381202042103\n",
      "Epoch : 490 | train loss : 0.004000316374003887 | test loss : 0.006276381202042103\n"
     ]
    }
   ],
   "source": [
    "torch.manual_seed(42)\n",
    "epochs = 500\n",
    "for epoch in range(epochs):\n",
    "    model_1.train()\n",
    "    y_pred = model_1(X_train)\n",
    "    loss = loss_fn(y_train,y_pred)\n",
    "    optimizer.zero_grad()\n",
    "    loss.backward()\n",
    "    optimizer.step()\n",
    "\n",
    "    model_1.eval()\n",
    "    with torch.inference_mode():\n",
    "        test_pred = model_1(X_test)\n",
    "        test_loss = loss_fn(test_pred,y_test)\n",
    "    if epoch%10 == 0:\n",
    "        print(f\"Epoch : {epoch} | train loss : {loss} | test loss : {test_loss}\")\n"
   ]
  },
  {
   "cell_type": "code",
   "execution_count": 9,
   "id": "2d42ede1",
   "metadata": {},
   "outputs": [
    {
     "data": {
      "text/plain": [
       "OrderedDict([('linear_layer.weight', tensor([[-0.4936]])),\n",
       "             ('linear_layer.bias', tensor([-0.8985]))])"
      ]
     },
     "execution_count": 9,
     "metadata": {},
     "output_type": "execute_result"
    }
   ],
   "source": [
    "model_1.state_dict()"
   ]
  },
  {
   "cell_type": "code",
   "execution_count": 10,
   "id": "411425cb",
   "metadata": {},
   "outputs": [
    {
     "data": {
      "text/plain": [
       "(-0.5, -0.9)"
      ]
     },
     "execution_count": 10,
     "metadata": {},
     "output_type": "execute_result"
    }
   ],
   "source": [
    "weight, bias"
   ]
  },
  {
   "cell_type": "code",
   "execution_count": 11,
   "id": "790355d8",
   "metadata": {},
   "outputs": [
    {
     "name": "stderr",
     "output_type": "stream",
     "text": [
      "No artists with labels found to put in legend.  Note that artists whose label start with an underscore are ignored when legend() is called with no argument.\n"
     ]
    },
    {
     "data": {
      "image/png": "[encoded data removed]",
      "text/plain": [
       "<Figure size 1000x700 with 1 Axes>"
      ]
     },
     "metadata": {},
     "output_type": "display_data"
    }
   ],
   "source": [
    "model_1.eval()\n",
    "with torch.inference_mode():\n",
    "    y_pred = model_1(X_test)\n",
    "plot_predictions(predictions=y_pred)"
   ]
  },
  {
   "cell_type": "code",
   "execution_count": 14,
   "id": "ce54b533",
   "metadata": {},
   "outputs": [
    {
     "name": "stdout",
     "output_type": "stream",
     "text": [
      "Saving model to: models\\01_pytorch_linear_model_1.pth\n"
     ]
    }
   ],
   "source": [
    "MODEL_PATH = Path('models')\n",
    "MODEL_PATH.mkdir(parents=True,exist_ok=True)\n",
    "\n",
    "MODEL_NAME = \"01_pytorch_linear_model_1.pth\"\n",
    "MODEL_SAVE_PATH = MODEL_PATH/MODEL_NAME\n",
    "\n",
    "print(f'Saving model to: {MODEL_SAVE_PATH}')\n",
    "torch.save(obj=model_1.state_dict(),f=MODEL_SAVE_PATH)"
   ]
  },
  {
   "cell_type": "code",
   "execution_count": 16,
   "id": "a34fa427",
   "metadata": {},
   "outputs": [
    {
     "data": {
      "text/plain": [
       "OrderedDict([('linear_layer.weight', tensor([[-0.4936]])),\n",
       "             ('linear_layer.bias', tensor([-0.8985]))])"
      ]
     },
     "execution_count": 16,
     "metadata": {},
     "output_type": "execute_result"
    }
   ],
   "source": [
    "loaded_model_1 = LinearRegressionModel()\n",
    "loaded_model_1.load_state_dict(torch.load(MODEL_SAVE_PATH)) \n",
    "loaded_model_1.to(device=device)\n",
    "loaded_model_1.state_dict()"
   ]
  },
  {
   "cell_type": "code",
   "execution_count": null,
   "id": "64fc3999",
   "metadata": {},
   "outputs": [],
   "source": []
  }
 ],
 "metadata": {
  "kernelspec": {
   "display_name": "Python 3",
   "language": "python",
   "name": "python3"
  },
  "language_info": {
   "codemirror_mode": {
    "name": "ipython",
    "version": 3
   },
   "file_extension": ".py",
   "mimetype": "text/x-python",
   "name": "python",
   "nbconvert_exporter": "python",
   "pygments_lexer": "ipython3",
   "version": "3.10.7"
  }
 },
 "nbformat": 4,
 "nbformat_minor": 5
}
